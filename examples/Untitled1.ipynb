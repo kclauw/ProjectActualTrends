{
 "cells": [
  {
   "cell_type": "code",
   "execution_count": 1,
   "metadata": {},
   "outputs": [
    {
     "data": {
      "text/html": [
       "<div style=\"width:100%;\"><div style=\"position:relative;width:100%;height:0;padding-bottom:60%;\"><iframe src=\"data:text/html;charset=utf-8;base64,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\" style=\"position:absolute;width:100%;height:100%;left:0;top:0;border:none !important;\" allowfullscreen webkitallowfullscreen mozallowfullscreen></iframe></div></div>"
      ],
      "text/plain": [
       "<folium.folium.Map at 0x7f56d727e390>"
      ]
     },
     "execution_count": 1,
     "metadata": {},
     "output_type": "execute_result"
    }
   ],
   "source": [
    "import folium\n",
    "\n",
    "from openrouteservice import client\n",
    "\n",
    "api_key = '58d904a497c67e00015b45fc07893889d08b4b6abcfc82938c195ec0'\n",
    "\n",
    "\n",
    "clnt = client.Client(key=api_key) \n",
    "# Set up folium map\n",
    "map1 = folium.Map(tiles='Stamen Toner', location=([37.738684, -122.450523]), zoom_start=12)\n",
    "\n",
    "# Set up the apartment dictionary with real coordinates\n",
    "apt_dict = {'first': {'location': [-122.430954, 37.792965]},\n",
    "            'second': {'location': [-122.501636, 37.748653]},\n",
    "            'third': {'location': [-122.446629, 37.736928]}\n",
    "           }\n",
    "\n",
    "# Request of isochrones with 15 minute footwalk.\n",
    "params_iso = {'profile': 'foot-walking',\n",
    "              'intervals': [900], # 900/60 = 15 mins\n",
    "              'segments': 900,\n",
    "              'attributes': ['total_pop'] # Get population count for isochrones\n",
    "             }\n",
    "\n",
    "for name, apt in apt_dict.items():\n",
    "    params_iso['locations'] = apt['location'] # Add apartment coords to request parameters\n",
    "    apt['iso'] = clnt.isochrones(**params_iso) # Perform isochrone request\n",
    "    folium.features.GeoJson(apt['iso']).add_to(map1) # Add GeoJson to map\n",
    "    \n",
    "    folium.map.Marker(list(reversed(apt['location'])), # reverse coords due to weird folium lat/lon syntax\n",
    "                      icon=folium.Icon(color='lightgray',\n",
    "                                        icon_color='#cc0000',\n",
    "                                        icon='home',\n",
    "                                        prefix='fa',\n",
    "                                       ),\n",
    "                      popup=name,\n",
    "                 ).add_to(map1) # Add apartment locations to map\n",
    "\n",
    "map1"
   ]
  },
  {
   "cell_type": "code",
   "execution_count": 2,
   "metadata": {},
   "outputs": [
    {
     "name": "stdout",
     "output_type": "stream",
     "text": [
      "\n",
      "second apartment\n",
      "kindergarten\n"
     ]
    },
    {
     "ename": "ValueError",
     "evalue": "No JSON object could be decoded",
     "output_type": "error",
     "traceback": [
      "\u001b[0;31m---------------------------------------------------------------------------\u001b[0m",
      "\u001b[0;31mValueError\u001b[0m                                Traceback (most recent call last)",
      "\u001b[0;32m<ipython-input-2-d10e6e70b93a>\u001b[0m in \u001b[0;36m<module>\u001b[0;34m()\u001b[0m\n\u001b[1;32m     18\u001b[0m         \u001b[0mparams_poi\u001b[0m\u001b[0;34m[\u001b[0m\u001b[0;34m'filter_category_ids'\u001b[0m\u001b[0;34m]\u001b[0m \u001b[0;34m=\u001b[0m \u001b[0mcategory\u001b[0m\u001b[0;34m\u001b[0m\u001b[0m\n\u001b[1;32m     19\u001b[0m         \u001b[0mapt\u001b[0m\u001b[0;34m[\u001b[0m\u001b[0;34m'categories'\u001b[0m\u001b[0;34m]\u001b[0m\u001b[0;34m[\u001b[0m\u001b[0mtyp\u001b[0m\u001b[0;34m]\u001b[0m \u001b[0;34m=\u001b[0m \u001b[0mdict\u001b[0m\u001b[0;34m(\u001b[0m\u001b[0;34m)\u001b[0m\u001b[0;34m\u001b[0m\u001b[0m\n\u001b[0;32m---> 20\u001b[0;31m         \u001b[0mapt\u001b[0m\u001b[0;34m[\u001b[0m\u001b[0;34m'categories'\u001b[0m\u001b[0;34m]\u001b[0m\u001b[0;34m[\u001b[0m\u001b[0mtyp\u001b[0m\u001b[0;34m]\u001b[0m\u001b[0;34m[\u001b[0m\u001b[0;34m'geojson'\u001b[0m\u001b[0;34m]\u001b[0m\u001b[0;34m=\u001b[0m \u001b[0mclnt\u001b[0m\u001b[0;34m.\u001b[0m\u001b[0mplaces\u001b[0m\u001b[0;34m(\u001b[0m\u001b[0;34m**\u001b[0m\u001b[0mparams_poi\u001b[0m\u001b[0;34m)\u001b[0m\u001b[0;34m[\u001b[0m\u001b[0;34m'features'\u001b[0m\u001b[0;34m]\u001b[0m \u001b[0;31m# Actual POI request\u001b[0m\u001b[0;34m\u001b[0m\u001b[0m\n\u001b[0m\u001b[1;32m     21\u001b[0m         print(\"\\t{}: {}\".format(typ, # Print amount POIs\n\u001b[1;32m     22\u001b[0m                                 len(apt['categories'][typ]['geojson'])))\n",
      "\u001b[0;32m/home/god/anaconda3/envs/py27/lib/python2.7/site-packages/openrouteservice/client.pyc\u001b[0m in \u001b[0;36mwrapper\u001b[0;34m(*args, **kwargs)\u001b[0m\n\u001b[1;32m    290\u001b[0m     \u001b[0;32mdef\u001b[0m \u001b[0mwrapper\u001b[0m\u001b[0;34m(\u001b[0m\u001b[0;34m*\u001b[0m\u001b[0margs\u001b[0m\u001b[0;34m,\u001b[0m \u001b[0;34m**\u001b[0m\u001b[0mkwargs\u001b[0m\u001b[0;34m)\u001b[0m\u001b[0;34m:\u001b[0m\u001b[0;34m\u001b[0m\u001b[0m\n\u001b[1;32m    291\u001b[0m         \u001b[0margs\u001b[0m\u001b[0;34m[\u001b[0m\u001b[0;36m0\u001b[0m\u001b[0;34m]\u001b[0m\u001b[0;34m.\u001b[0m\u001b[0m_extra_params\u001b[0m \u001b[0;34m=\u001b[0m \u001b[0mkwargs\u001b[0m\u001b[0;34m.\u001b[0m\u001b[0mpop\u001b[0m\u001b[0;34m(\u001b[0m\u001b[0;34m\"extra_params\"\u001b[0m\u001b[0;34m,\u001b[0m \u001b[0mNone\u001b[0m\u001b[0;34m)\u001b[0m\u001b[0;34m\u001b[0m\u001b[0m\n\u001b[0;32m--> 292\u001b[0;31m         \u001b[0mresult\u001b[0m \u001b[0;34m=\u001b[0m \u001b[0mfunc\u001b[0m\u001b[0;34m(\u001b[0m\u001b[0;34m*\u001b[0m\u001b[0margs\u001b[0m\u001b[0;34m,\u001b[0m \u001b[0;34m**\u001b[0m\u001b[0mkwargs\u001b[0m\u001b[0;34m)\u001b[0m\u001b[0;34m\u001b[0m\u001b[0m\n\u001b[0m\u001b[1;32m    293\u001b[0m         \u001b[0;32mtry\u001b[0m\u001b[0;34m:\u001b[0m\u001b[0;34m\u001b[0m\u001b[0m\n\u001b[1;32m    294\u001b[0m             \u001b[0;32mdel\u001b[0m \u001b[0margs\u001b[0m\u001b[0;34m[\u001b[0m\u001b[0;36m0\u001b[0m\u001b[0;34m]\u001b[0m\u001b[0;34m.\u001b[0m\u001b[0m_extra_params\u001b[0m\u001b[0;34m\u001b[0m\u001b[0m\n",
      "\u001b[0;32m/home/god/anaconda3/envs/py27/lib/python2.7/site-packages/openrouteservice/places.pyc\u001b[0m in \u001b[0;36mplaces\u001b[0;34m(client, request, geojson, bbox, buffer, filter_category_ids, filter_category_group_ids, filters_custom, limit, sortby, dry_run)\u001b[0m\n\u001b[1;32m    107\u001b[0m             \u001b[0mparams\u001b[0m\u001b[0;34m[\u001b[0m\u001b[0;34m'sortby'\u001b[0m\u001b[0;34m]\u001b[0m \u001b[0;34m=\u001b[0m \u001b[0msortby\u001b[0m\u001b[0;34m\u001b[0m\u001b[0m\n\u001b[1;32m    108\u001b[0m \u001b[0;34m\u001b[0m\u001b[0m\n\u001b[0;32m--> 109\u001b[0;31m     \u001b[0;32mreturn\u001b[0m \u001b[0mclient\u001b[0m\u001b[0;34m.\u001b[0m\u001b[0mrequest\u001b[0m\u001b[0;34m(\u001b[0m\u001b[0;34m'/pois'\u001b[0m\u001b[0;34m,\u001b[0m \u001b[0;34m{\u001b[0m\u001b[0;34m}\u001b[0m\u001b[0;34m,\u001b[0m \u001b[0mpost_json\u001b[0m\u001b[0;34m=\u001b[0m\u001b[0mparams\u001b[0m\u001b[0;34m,\u001b[0m \u001b[0mdry_run\u001b[0m\u001b[0;34m=\u001b[0m\u001b[0mdry_run\u001b[0m\u001b[0;34m)\u001b[0m\u001b[0;34m\u001b[0m\u001b[0m\n\u001b[0m",
      "\u001b[0;32m/home/god/anaconda3/envs/py27/lib/python2.7/site-packages/openrouteservice/client.pyc\u001b[0m in \u001b[0;36mrequest\u001b[0;34m(self, url, params, first_request_time, retry_counter, requests_kwargs, post_json, dry_run)\u001b[0m\n\u001b[1;32m    206\u001b[0m \u001b[0;34m\u001b[0m\u001b[0m\n\u001b[1;32m    207\u001b[0m         \u001b[0;32mtry\u001b[0m\u001b[0;34m:\u001b[0m\u001b[0;34m\u001b[0m\u001b[0m\n\u001b[0;32m--> 208\u001b[0;31m             \u001b[0mresult\u001b[0m \u001b[0;34m=\u001b[0m \u001b[0mself\u001b[0m\u001b[0;34m.\u001b[0m\u001b[0m_get_body\u001b[0m\u001b[0;34m(\u001b[0m\u001b[0mresponse\u001b[0m\u001b[0;34m)\u001b[0m\u001b[0;34m\u001b[0m\u001b[0m\n\u001b[0m\u001b[1;32m    209\u001b[0m             \u001b[0mself\u001b[0m\u001b[0;34m.\u001b[0m\u001b[0msent_times\u001b[0m\u001b[0;34m.\u001b[0m\u001b[0mappend\u001b[0m\u001b[0;34m(\u001b[0m\u001b[0mtime\u001b[0m\u001b[0;34m.\u001b[0m\u001b[0mtime\u001b[0m\u001b[0;34m(\u001b[0m\u001b[0;34m)\u001b[0m\u001b[0;34m)\u001b[0m\u001b[0;34m\u001b[0m\u001b[0m\n\u001b[1;32m    210\u001b[0m             \u001b[0;32mreturn\u001b[0m \u001b[0mresult\u001b[0m\u001b[0;34m\u001b[0m\u001b[0m\n",
      "\u001b[0;32m/home/god/anaconda3/envs/py27/lib/python2.7/site-packages/openrouteservice/client.pyc\u001b[0m in \u001b[0;36m_get_body\u001b[0;34m(self, response)\u001b[0m\n\u001b[1;32m    223\u001b[0m \u001b[0;34m\u001b[0m\u001b[0m\n\u001b[1;32m    224\u001b[0m     \u001b[0;32mdef\u001b[0m \u001b[0m_get_body\u001b[0m\u001b[0;34m(\u001b[0m\u001b[0mself\u001b[0m\u001b[0;34m,\u001b[0m \u001b[0mresponse\u001b[0m\u001b[0;34m)\u001b[0m\u001b[0;34m:\u001b[0m\u001b[0;34m\u001b[0m\u001b[0m\n\u001b[0;32m--> 225\u001b[0;31m         \u001b[0mbody\u001b[0m \u001b[0;34m=\u001b[0m \u001b[0mresponse\u001b[0m\u001b[0;34m.\u001b[0m\u001b[0mjson\u001b[0m\u001b[0;34m(\u001b[0m\u001b[0;34m)\u001b[0m\u001b[0;34m\u001b[0m\u001b[0m\n\u001b[0m\u001b[1;32m    226\u001b[0m \u001b[0;31m#        error = body.get('error')\u001b[0m\u001b[0;34m\u001b[0m\u001b[0;34m\u001b[0m\u001b[0m\n\u001b[1;32m    227\u001b[0m         \u001b[0mstatus_code\u001b[0m \u001b[0;34m=\u001b[0m \u001b[0mresponse\u001b[0m\u001b[0;34m.\u001b[0m\u001b[0mstatus_code\u001b[0m\u001b[0;34m\u001b[0m\u001b[0m\n",
      "\u001b[0;32m/home/god/anaconda3/envs/py27/lib/python2.7/site-packages/requests/models.pyc\u001b[0m in \u001b[0;36mjson\u001b[0;34m(self, **kwargs)\u001b[0m\n\u001b[1;32m    890\u001b[0m                     \u001b[0;31m# used.\u001b[0m\u001b[0;34m\u001b[0m\u001b[0;34m\u001b[0m\u001b[0m\n\u001b[1;32m    891\u001b[0m                     \u001b[0;32mpass\u001b[0m\u001b[0;34m\u001b[0m\u001b[0m\n\u001b[0;32m--> 892\u001b[0;31m         \u001b[0;32mreturn\u001b[0m \u001b[0mcomplexjson\u001b[0m\u001b[0;34m.\u001b[0m\u001b[0mloads\u001b[0m\u001b[0;34m(\u001b[0m\u001b[0mself\u001b[0m\u001b[0;34m.\u001b[0m\u001b[0mtext\u001b[0m\u001b[0;34m,\u001b[0m \u001b[0;34m**\u001b[0m\u001b[0mkwargs\u001b[0m\u001b[0;34m)\u001b[0m\u001b[0;34m\u001b[0m\u001b[0m\n\u001b[0m\u001b[1;32m    893\u001b[0m \u001b[0;34m\u001b[0m\u001b[0m\n\u001b[1;32m    894\u001b[0m     \u001b[0;34m@\u001b[0m\u001b[0mproperty\u001b[0m\u001b[0;34m\u001b[0m\u001b[0m\n",
      "\u001b[0;32m/home/god/anaconda3/envs/py27/lib/python2.7/json/__init__.pyc\u001b[0m in \u001b[0;36mloads\u001b[0;34m(s, encoding, cls, object_hook, parse_float, parse_int, parse_constant, object_pairs_hook, **kw)\u001b[0m\n\u001b[1;32m    337\u001b[0m             \u001b[0mparse_int\u001b[0m \u001b[0;32mis\u001b[0m \u001b[0mNone\u001b[0m \u001b[0;32mand\u001b[0m \u001b[0mparse_float\u001b[0m \u001b[0;32mis\u001b[0m \u001b[0mNone\u001b[0m \u001b[0;32mand\u001b[0m\u001b[0;34m\u001b[0m\u001b[0m\n\u001b[1;32m    338\u001b[0m             parse_constant is None and object_pairs_hook is None and not kw):\n\u001b[0;32m--> 339\u001b[0;31m         \u001b[0;32mreturn\u001b[0m \u001b[0m_default_decoder\u001b[0m\u001b[0;34m.\u001b[0m\u001b[0mdecode\u001b[0m\u001b[0;34m(\u001b[0m\u001b[0ms\u001b[0m\u001b[0;34m)\u001b[0m\u001b[0;34m\u001b[0m\u001b[0m\n\u001b[0m\u001b[1;32m    340\u001b[0m     \u001b[0;32mif\u001b[0m \u001b[0mcls\u001b[0m \u001b[0;32mis\u001b[0m \u001b[0mNone\u001b[0m\u001b[0;34m:\u001b[0m\u001b[0;34m\u001b[0m\u001b[0m\n\u001b[1;32m    341\u001b[0m         \u001b[0mcls\u001b[0m \u001b[0;34m=\u001b[0m \u001b[0mJSONDecoder\u001b[0m\u001b[0;34m\u001b[0m\u001b[0m\n",
      "\u001b[0;32m/home/god/anaconda3/envs/py27/lib/python2.7/json/decoder.pyc\u001b[0m in \u001b[0;36mdecode\u001b[0;34m(self, s, _w)\u001b[0m\n\u001b[1;32m    362\u001b[0m \u001b[0;34m\u001b[0m\u001b[0m\n\u001b[1;32m    363\u001b[0m         \"\"\"\n\u001b[0;32m--> 364\u001b[0;31m         \u001b[0mobj\u001b[0m\u001b[0;34m,\u001b[0m \u001b[0mend\u001b[0m \u001b[0;34m=\u001b[0m \u001b[0mself\u001b[0m\u001b[0;34m.\u001b[0m\u001b[0mraw_decode\u001b[0m\u001b[0;34m(\u001b[0m\u001b[0ms\u001b[0m\u001b[0;34m,\u001b[0m \u001b[0midx\u001b[0m\u001b[0;34m=\u001b[0m\u001b[0m_w\u001b[0m\u001b[0;34m(\u001b[0m\u001b[0ms\u001b[0m\u001b[0;34m,\u001b[0m \u001b[0;36m0\u001b[0m\u001b[0;34m)\u001b[0m\u001b[0;34m.\u001b[0m\u001b[0mend\u001b[0m\u001b[0;34m(\u001b[0m\u001b[0;34m)\u001b[0m\u001b[0;34m)\u001b[0m\u001b[0;34m\u001b[0m\u001b[0m\n\u001b[0m\u001b[1;32m    365\u001b[0m         \u001b[0mend\u001b[0m \u001b[0;34m=\u001b[0m \u001b[0m_w\u001b[0m\u001b[0;34m(\u001b[0m\u001b[0ms\u001b[0m\u001b[0;34m,\u001b[0m \u001b[0mend\u001b[0m\u001b[0;34m)\u001b[0m\u001b[0;34m.\u001b[0m\u001b[0mend\u001b[0m\u001b[0;34m(\u001b[0m\u001b[0;34m)\u001b[0m\u001b[0;34m\u001b[0m\u001b[0m\n\u001b[1;32m    366\u001b[0m         \u001b[0;32mif\u001b[0m \u001b[0mend\u001b[0m \u001b[0;34m!=\u001b[0m \u001b[0mlen\u001b[0m\u001b[0;34m(\u001b[0m\u001b[0ms\u001b[0m\u001b[0;34m)\u001b[0m\u001b[0;34m:\u001b[0m\u001b[0;34m\u001b[0m\u001b[0m\n",
      "\u001b[0;32m/home/god/anaconda3/envs/py27/lib/python2.7/json/decoder.pyc\u001b[0m in \u001b[0;36mraw_decode\u001b[0;34m(self, s, idx)\u001b[0m\n\u001b[1;32m    380\u001b[0m             \u001b[0mobj\u001b[0m\u001b[0;34m,\u001b[0m \u001b[0mend\u001b[0m \u001b[0;34m=\u001b[0m \u001b[0mself\u001b[0m\u001b[0;34m.\u001b[0m\u001b[0mscan_once\u001b[0m\u001b[0;34m(\u001b[0m\u001b[0ms\u001b[0m\u001b[0;34m,\u001b[0m \u001b[0midx\u001b[0m\u001b[0;34m)\u001b[0m\u001b[0;34m\u001b[0m\u001b[0m\n\u001b[1;32m    381\u001b[0m         \u001b[0;32mexcept\u001b[0m \u001b[0mStopIteration\u001b[0m\u001b[0;34m:\u001b[0m\u001b[0;34m\u001b[0m\u001b[0m\n\u001b[0;32m--> 382\u001b[0;31m             \u001b[0;32mraise\u001b[0m \u001b[0mValueError\u001b[0m\u001b[0;34m(\u001b[0m\u001b[0;34m\"No JSON object could be decoded\"\u001b[0m\u001b[0;34m)\u001b[0m\u001b[0;34m\u001b[0m\u001b[0m\n\u001b[0m\u001b[1;32m    383\u001b[0m         \u001b[0;32mreturn\u001b[0m \u001b[0mobj\u001b[0m\u001b[0;34m,\u001b[0m \u001b[0mend\u001b[0m\u001b[0;34m\u001b[0m\u001b[0m\n",
      "\u001b[0;31mValueError\u001b[0m: No JSON object could be decoded"
     ]
    }
   ],
   "source": [
    "# Common request parameters\n",
    "params_poi = {'request': 'pois',\n",
    "              'sortby': 'distance'}\n",
    "\n",
    "# POI categories according to \n",
    "# https://github.com/GIScience/openrouteservice-docs#places-response\n",
    "categories_poi = {'kindergarten': [153],\n",
    "                  'supermarket': [518],\n",
    "                  'hairdresser': [395]}\n",
    "\n",
    "for name, apt in apt_dict.items():\n",
    "    apt['categories'] = dict() # Store in pois dict for easier retrieval\n",
    "    params_poi['geojson'] = apt['iso']['features'][0]['geometry']\n",
    "    print(\"\\n{} apartment\".format(name))\n",
    "    \n",
    "    for typ, category in categories_poi.items():\n",
    "        print(typ)\n",
    "        params_poi['filter_category_ids'] = category\n",
    "        apt['categories'][typ] = dict()\n",
    "        apt['categories'][typ]['geojson']= clnt.places(**params_poi)['features'] # Actual POI request\n",
    "        print(\"\\t{}: {}\".format(typ, # Print amount POIs\n",
    "                                len(apt['categories'][typ]['geojson'])))"
   ]
  },
  {
   "cell_type": "code",
   "execution_count": null,
   "metadata": {
    "collapsed": true
   },
   "outputs": [],
   "source": [
    "\n",
    "# Set up common request parameters\n",
    "params_route = {'profile': 'foot-walking',\n",
    "               'format_out': 'geojson',\n",
    "               'geometry': 'true',\n",
    "               'geometry_format': 'geojson',\n",
    "               'instructions': 'false',\n",
    "               }\n",
    "\n",
    "# Set up dict for font-awesome\n",
    "style_dict = {'kindergarten': 'child',\n",
    "              'supermarket': 'shopping-cart',\n",
    "              'hairdresser': 'scissors'\n",
    "             }\n",
    "\n",
    "# Store all routes from all apartments to POIs\n",
    "for apt in apt_dict.values():\n",
    "    for cat, pois in apt['categories'].items():\n",
    "        pois['durations'] = []\n",
    "        for poi in pois['geojson']:\n",
    "            poi_coords = poi['geometry']['coordinates']\n",
    "            \n",
    "            # Perform actual request\n",
    "            params_route['coordinates'] = [apt['location'],\n",
    "                                           poi_coords\n",
    "                                          ]\n",
    "            json_route = clnt.directions(**params_route)\n",
    "            \n",
    "            folium.features.GeoJson(json_route).add_to(map1)\n",
    "            folium.map.Marker(list(reversed(poi_coords)),\n",
    "                              icon=folium.Icon(color='white',\n",
    "                                               icon_color='#1a1aff',\n",
    "                                               icon=style_dict[cat],\n",
    "                                               prefix='fa'\n",
    "                                              )\n",
    "                             ).add_to(map1)\n",
    "            \n",
    "            poi_duration = json_route['features'][0]['properties']['summary'][0]['duration']\n",
    "            pois['durations'].append(poi_duration) # Record durations of routes\n",
    "        "
   ]
  },
  {
   "cell_type": "code",
   "execution_count": null,
   "metadata": {
    "collapsed": true
   },
   "outputs": [],
   "source": []
  }
 ],
 "metadata": {
  "kernelspec": {
   "display_name": "Python [conda env:py27]",
   "language": "python",
   "name": "conda-env-py27-py"
  },
  "language_info": {
   "codemirror_mode": {
    "name": "ipython",
    "version": 2
   },
   "file_extension": ".py",
   "mimetype": "text/x-python",
   "name": "python",
   "nbconvert_exporter": "python",
   "pygments_lexer": "ipython2",
   "version": "2.7.14"
  }
 },
 "nbformat": 4,
 "nbformat_minor": 2
}
