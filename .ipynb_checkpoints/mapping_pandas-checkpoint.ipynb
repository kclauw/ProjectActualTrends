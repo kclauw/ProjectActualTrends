{
 "cells": [
  {
   "cell_type": "markdown",
   "metadata": {},
   "source": []
  },
  {
   "cell_type": "code",
   "execution_count": 8,
   "metadata": {},
   "outputs": [
    {
     "ename": "_OverQueryLimit",
     "evalue": "429 ({u'error': u'Rate limit exceeded'})",
     "output_type": "error",
     "traceback": [
      "\u001b[0;31m---------------------------------------------------------------------------\u001b[0m",
      "\u001b[0;31m_OverQueryLimit\u001b[0m                           Traceback (most recent call last)",
      "\u001b[0;32m<ipython-input-8-e32948c2a10a>\u001b[0m in \u001b[0;36m<module>\u001b[0;34m()\u001b[0m\n\u001b[1;32m     46\u001b[0m     \u001b[0mx\u001b[0m \u001b[0;34m=\u001b[0m \u001b[0mall_data\u001b[0m\u001b[0;34m[\u001b[0m\u001b[0;34m'long_wgs84'\u001b[0m\u001b[0;34m]\u001b[0m\u001b[0;34m[\u001b[0m\u001b[0mi\u001b[0m\u001b[0;34m]\u001b[0m\u001b[0;34m\u001b[0m\u001b[0m\n\u001b[1;32m     47\u001b[0m     \u001b[0my\u001b[0m \u001b[0;34m=\u001b[0m \u001b[0mall_data\u001b[0m\u001b[0;34m[\u001b[0m\u001b[0;34m'lat_wgs84'\u001b[0m\u001b[0;34m]\u001b[0m\u001b[0;34m[\u001b[0m\u001b[0mi\u001b[0m\u001b[0;34m]\u001b[0m\u001b[0;34m\u001b[0m\u001b[0m\n\u001b[0;32m---> 48\u001b[0;31m     \u001b[0mall_data\u001b[0m\u001b[0;34m[\u001b[0m\u001b[0;34m'name'\u001b[0m\u001b[0;34m]\u001b[0m \u001b[0;34m=\u001b[0m \u001b[0mclnt\u001b[0m\u001b[0;34m.\u001b[0m\u001b[0mreverse_geocode\u001b[0m\u001b[0;34m(\u001b[0m\u001b[0mlocation\u001b[0m\u001b[0;34m=\u001b[0m\u001b[0;34m(\u001b[0m\u001b[0mx\u001b[0m\u001b[0;34m,\u001b[0m \u001b[0my\u001b[0m\u001b[0;34m)\u001b[0m\u001b[0;34m)\u001b[0m\u001b[0;34m[\u001b[0m\u001b[0;34m'features'\u001b[0m\u001b[0;34m]\u001b[0m\u001b[0;34m[\u001b[0m\u001b[0;36m0\u001b[0m\u001b[0;34m]\u001b[0m\u001b[0;34m[\u001b[0m\u001b[0;34m'properties'\u001b[0m\u001b[0;34m]\u001b[0m\u001b[0;34m[\u001b[0m\u001b[0;34m'name'\u001b[0m\u001b[0;34m]\u001b[0m\u001b[0;34m\u001b[0m\u001b[0m\n\u001b[0m\u001b[1;32m     49\u001b[0m \u001b[0;34m\u001b[0m\u001b[0m\n\u001b[1;32m     50\u001b[0m \u001b[0;34m\u001b[0m\u001b[0m\n",
      "\u001b[0;32m/home/god/anaconda3/envs/py27/lib/python2.7/site-packages/openrouteservice/client.pyc\u001b[0m in \u001b[0;36mwrapper\u001b[0;34m(*args, **kwargs)\u001b[0m\n\u001b[1;32m    290\u001b[0m     \u001b[0;32mdef\u001b[0m \u001b[0mwrapper\u001b[0m\u001b[0;34m(\u001b[0m\u001b[0;34m*\u001b[0m\u001b[0margs\u001b[0m\u001b[0;34m,\u001b[0m \u001b[0;34m**\u001b[0m\u001b[0mkwargs\u001b[0m\u001b[0;34m)\u001b[0m\u001b[0;34m:\u001b[0m\u001b[0;34m\u001b[0m\u001b[0m\n\u001b[1;32m    291\u001b[0m         \u001b[0margs\u001b[0m\u001b[0;34m[\u001b[0m\u001b[0;36m0\u001b[0m\u001b[0;34m]\u001b[0m\u001b[0;34m.\u001b[0m\u001b[0m_extra_params\u001b[0m \u001b[0;34m=\u001b[0m \u001b[0mkwargs\u001b[0m\u001b[0;34m.\u001b[0m\u001b[0mpop\u001b[0m\u001b[0;34m(\u001b[0m\u001b[0;34m\"extra_params\"\u001b[0m\u001b[0;34m,\u001b[0m \u001b[0mNone\u001b[0m\u001b[0;34m)\u001b[0m\u001b[0;34m\u001b[0m\u001b[0m\n\u001b[0;32m--> 292\u001b[0;31m         \u001b[0mresult\u001b[0m \u001b[0;34m=\u001b[0m \u001b[0mfunc\u001b[0m\u001b[0;34m(\u001b[0m\u001b[0;34m*\u001b[0m\u001b[0margs\u001b[0m\u001b[0;34m,\u001b[0m \u001b[0;34m**\u001b[0m\u001b[0mkwargs\u001b[0m\u001b[0;34m)\u001b[0m\u001b[0;34m\u001b[0m\u001b[0m\n\u001b[0m\u001b[1;32m    293\u001b[0m         \u001b[0;32mtry\u001b[0m\u001b[0;34m:\u001b[0m\u001b[0;34m\u001b[0m\u001b[0m\n\u001b[1;32m    294\u001b[0m             \u001b[0;32mdel\u001b[0m \u001b[0margs\u001b[0m\u001b[0;34m[\u001b[0m\u001b[0;36m0\u001b[0m\u001b[0;34m]\u001b[0m\u001b[0;34m.\u001b[0m\u001b[0m_extra_params\u001b[0m\u001b[0;34m\u001b[0m\u001b[0m\n",
      "\u001b[0;32m/home/god/anaconda3/envs/py27/lib/python2.7/site-packages/openrouteservice/geocoding.pyc\u001b[0m in \u001b[0;36mreverse_geocode\u001b[0;34m(client, location, lang, boundary_type, rect, circle, limit, dry_run)\u001b[0m\n\u001b[1;32m    163\u001b[0m         \u001b[0mparams\u001b[0m\u001b[0;34m[\u001b[0m\u001b[0;34m\"limit\"\u001b[0m\u001b[0;34m]\u001b[0m \u001b[0;34m=\u001b[0m \u001b[0mstr\u001b[0m\u001b[0;34m(\u001b[0m\u001b[0mlimit\u001b[0m\u001b[0;34m)\u001b[0m\u001b[0;34m\u001b[0m\u001b[0m\n\u001b[1;32m    164\u001b[0m \u001b[0;34m\u001b[0m\u001b[0m\n\u001b[0;32m--> 165\u001b[0;31m     \u001b[0;32mreturn\u001b[0m \u001b[0mclient\u001b[0m\u001b[0;34m.\u001b[0m\u001b[0mrequest\u001b[0m\u001b[0;34m(\u001b[0m\u001b[0;34m\"/geocoding\"\u001b[0m\u001b[0;34m,\u001b[0m \u001b[0mparams\u001b[0m\u001b[0;34m,\u001b[0m \u001b[0mdry_run\u001b[0m\u001b[0;34m=\u001b[0m\u001b[0mdry_run\u001b[0m\u001b[0;34m)\u001b[0m\u001b[0;34m\u001b[0m\u001b[0m\n\u001b[0m\u001b[1;32m    166\u001b[0m \u001b[0;31m# -*- coding: utf-8 -*-\u001b[0m\u001b[0;34m\u001b[0m\u001b[0;34m\u001b[0m\u001b[0m\n\u001b[1;32m    167\u001b[0m \u001b[0;34m\u001b[0m\u001b[0m\n",
      "\u001b[0;32m/home/god/anaconda3/envs/py27/lib/python2.7/site-packages/openrouteservice/client.pyc\u001b[0m in \u001b[0;36mrequest\u001b[0;34m(self, url, params, first_request_time, retry_counter, requests_kwargs, post_json, dry_run)\u001b[0m\n\u001b[1;32m    206\u001b[0m \u001b[0;34m\u001b[0m\u001b[0m\n\u001b[1;32m    207\u001b[0m         \u001b[0;32mtry\u001b[0m\u001b[0;34m:\u001b[0m\u001b[0;34m\u001b[0m\u001b[0m\n\u001b[0;32m--> 208\u001b[0;31m             \u001b[0mresult\u001b[0m \u001b[0;34m=\u001b[0m \u001b[0mself\u001b[0m\u001b[0;34m.\u001b[0m\u001b[0m_get_body\u001b[0m\u001b[0;34m(\u001b[0m\u001b[0mresponse\u001b[0m\u001b[0;34m)\u001b[0m\u001b[0;34m\u001b[0m\u001b[0m\n\u001b[0m\u001b[1;32m    209\u001b[0m             \u001b[0mself\u001b[0m\u001b[0;34m.\u001b[0m\u001b[0msent_times\u001b[0m\u001b[0;34m.\u001b[0m\u001b[0mappend\u001b[0m\u001b[0;34m(\u001b[0m\u001b[0mtime\u001b[0m\u001b[0;34m.\u001b[0m\u001b[0mtime\u001b[0m\u001b[0;34m(\u001b[0m\u001b[0;34m)\u001b[0m\u001b[0;34m)\u001b[0m\u001b[0;34m\u001b[0m\u001b[0m\n\u001b[1;32m    210\u001b[0m             \u001b[0;32mreturn\u001b[0m \u001b[0mresult\u001b[0m\u001b[0;34m\u001b[0m\u001b[0m\n",
      "\u001b[0;32m/home/god/anaconda3/envs/py27/lib/python2.7/site-packages/openrouteservice/client.pyc\u001b[0m in \u001b[0;36m_get_body\u001b[0;34m(self, response)\u001b[0m\n\u001b[1;32m    229\u001b[0m         \u001b[0;32mif\u001b[0m \u001b[0mstatus_code\u001b[0m \u001b[0;34m==\u001b[0m \u001b[0;36m429\u001b[0m\u001b[0;34m:\u001b[0m\u001b[0;34m\u001b[0m\u001b[0m\n\u001b[1;32m    230\u001b[0m             raise openrouteservice.exceptions._OverQueryLimit(\n\u001b[0;32m--> 231\u001b[0;31m                 str(status_code), body)\n\u001b[0m\u001b[1;32m    232\u001b[0m         \u001b[0;32mif\u001b[0m \u001b[0mstatus_code\u001b[0m \u001b[0;34m!=\u001b[0m \u001b[0;36m200\u001b[0m\u001b[0;34m:\u001b[0m\u001b[0;34m\u001b[0m\u001b[0m\n\u001b[1;32m    233\u001b[0m             raise openrouteservice.exceptions.ApiError(status_code,\n",
      "\u001b[0;31m_OverQueryLimit\u001b[0m: 429 ({u'error': u'Rate limit exceeded'})"
     ]
    }
   ],
   "source": [
    "import pandas as pd\n",
    "from scipy import spatial\n",
    "from util import to_Cartesian,geo_to_cartesian,distToKM,kmToDIST\n",
    "import geopandas as gpd\n",
    "import numpy as np\n",
    "from geopandas.tools import sjoin\n",
    "import folium\n",
    "from folium.plugins import MarkerCluster\n",
    "import shapely\n",
    "from shapely.geometry import Point\n",
    "import unicodedata\n",
    "import pysal as ps\n",
    "from shapely import geometry\n",
    "import sys\n",
    "from folium import plugins\n",
    "import string\n",
    "import folium\n",
    "from shapely import wkt, geometry\n",
    "import json\n",
    "from pprint import pprint\n",
    "from openrouteservice import client, places\n",
    "from openrouteservice import distance_matrix\n",
    "from geopandas import GeoDataFrame\n",
    "from shapely.geometry import Point\n",
    "import osrm\n",
    "from openrouteservice import geocoding\n",
    "\n",
    "#import osrm\n",
    "#reload(sys)\n",
    "#sys.setdefaultencoding('utf-8')\n",
    "\n",
    "#Setup open-route service client\n",
    "api_key = '58d904a497c67e00015b45fc07893889d08b4b6abcfc82938c195ec0'\n",
    "clnt = client.Client(key=api_key)\n",
    "\n",
    "#Read data\n",
    "column_names = 'id;'.split(\";\")\n",
    "\n",
    "all_data = pd.read_csv('./data/processed_data.csv',sep=\",\")\n",
    "\n",
    "#Convert geo-coordinates to cartesian\n",
    "all_data['x'], all_data['y'], all_data['z'] = geo_to_cartesian(all_data['long_wgs84'],all_data['lat_wgs84'])\n",
    "\n",
    "#Reverse geo code the address name\n",
    "for i in range(20):\n",
    "    x = all_data['long_wgs84'][i]\n",
    "    y = all_data['lat_wgs84'][i]\n",
    "    #all_data['name'] = clnt.reverse_geocode(location=(x, y))['features'][0]['properties']['name']\n",
    "    \n",
    "    \n",
    "#all_data.to_csv('./data/final_dataset.csv')\n"
   ]
  },
  {
   "cell_type": "code",
   "execution_count": 9,
   "metadata": {},
   "outputs": [
    {
     "ename": "KeyError",
     "evalue": "'x'",
     "output_type": "error",
     "traceback": [
      "\u001b[0;31m---------------------------------------------------------------------------\u001b[0m",
      "\u001b[0;31mKeyError\u001b[0m                                  Traceback (most recent call last)",
      "\u001b[0;32m<ipython-input-9-744f7398f9ad>\u001b[0m in \u001b[0;36m<module>\u001b[0;34m()\u001b[0m\n\u001b[1;32m      7\u001b[0m \u001b[0;34m\u001b[0m\u001b[0m\n\u001b[1;32m      8\u001b[0m \u001b[0;31m# create the KD-tree using the 3D cartesian coordinates\u001b[0m\u001b[0;34m\u001b[0m\u001b[0;34m\u001b[0m\u001b[0m\n\u001b[0;32m----> 9\u001b[0;31m \u001b[0mcoordinates\u001b[0m \u001b[0;34m=\u001b[0m \u001b[0mlist\u001b[0m\u001b[0;34m(\u001b[0m\u001b[0mzip\u001b[0m\u001b[0;34m(\u001b[0m\u001b[0mall_data\u001b[0m\u001b[0;34m[\u001b[0m\u001b[0;34m'x'\u001b[0m\u001b[0;34m]\u001b[0m\u001b[0;34m,\u001b[0m \u001b[0mall_data\u001b[0m\u001b[0;34m[\u001b[0m\u001b[0;34m'y'\u001b[0m\u001b[0;34m]\u001b[0m\u001b[0;34m,\u001b[0m \u001b[0mall_data\u001b[0m\u001b[0;34m[\u001b[0m\u001b[0;34m'z'\u001b[0m\u001b[0;34m]\u001b[0m\u001b[0;34m)\u001b[0m\u001b[0;34m)\u001b[0m\u001b[0;34m\u001b[0m\u001b[0m\n\u001b[0m\u001b[1;32m     10\u001b[0m \u001b[0mtree\u001b[0m \u001b[0;34m=\u001b[0m \u001b[0mspatial\u001b[0m\u001b[0;34m.\u001b[0m\u001b[0mcKDTree\u001b[0m\u001b[0;34m(\u001b[0m\u001b[0mcoordinates\u001b[0m\u001b[0;34m)\u001b[0m\u001b[0;34m\u001b[0m\u001b[0m\n\u001b[1;32m     11\u001b[0m \u001b[0;34m\u001b[0m\u001b[0m\n",
      "\u001b[0;32m/home/god/anaconda3/envs/py27/lib/python2.7/site-packages/pandas/core/frame.pyc\u001b[0m in \u001b[0;36m__getitem__\u001b[0;34m(self, key)\u001b[0m\n\u001b[1;32m   1962\u001b[0m             \u001b[0;32mreturn\u001b[0m \u001b[0mself\u001b[0m\u001b[0;34m.\u001b[0m\u001b[0m_getitem_multilevel\u001b[0m\u001b[0;34m(\u001b[0m\u001b[0mkey\u001b[0m\u001b[0;34m)\u001b[0m\u001b[0;34m\u001b[0m\u001b[0m\n\u001b[1;32m   1963\u001b[0m         \u001b[0;32melse\u001b[0m\u001b[0;34m:\u001b[0m\u001b[0;34m\u001b[0m\u001b[0m\n\u001b[0;32m-> 1964\u001b[0;31m             \u001b[0;32mreturn\u001b[0m \u001b[0mself\u001b[0m\u001b[0;34m.\u001b[0m\u001b[0m_getitem_column\u001b[0m\u001b[0;34m(\u001b[0m\u001b[0mkey\u001b[0m\u001b[0;34m)\u001b[0m\u001b[0;34m\u001b[0m\u001b[0m\n\u001b[0m\u001b[1;32m   1965\u001b[0m \u001b[0;34m\u001b[0m\u001b[0m\n\u001b[1;32m   1966\u001b[0m     \u001b[0;32mdef\u001b[0m \u001b[0m_getitem_column\u001b[0m\u001b[0;34m(\u001b[0m\u001b[0mself\u001b[0m\u001b[0;34m,\u001b[0m \u001b[0mkey\u001b[0m\u001b[0;34m)\u001b[0m\u001b[0;34m:\u001b[0m\u001b[0;34m\u001b[0m\u001b[0m\n",
      "\u001b[0;32m/home/god/anaconda3/envs/py27/lib/python2.7/site-packages/pandas/core/frame.pyc\u001b[0m in \u001b[0;36m_getitem_column\u001b[0;34m(self, key)\u001b[0m\n\u001b[1;32m   1969\u001b[0m         \u001b[0;31m# get column\u001b[0m\u001b[0;34m\u001b[0m\u001b[0;34m\u001b[0m\u001b[0m\n\u001b[1;32m   1970\u001b[0m         \u001b[0;32mif\u001b[0m \u001b[0mself\u001b[0m\u001b[0;34m.\u001b[0m\u001b[0mcolumns\u001b[0m\u001b[0;34m.\u001b[0m\u001b[0mis_unique\u001b[0m\u001b[0;34m:\u001b[0m\u001b[0;34m\u001b[0m\u001b[0m\n\u001b[0;32m-> 1971\u001b[0;31m             \u001b[0;32mreturn\u001b[0m \u001b[0mself\u001b[0m\u001b[0;34m.\u001b[0m\u001b[0m_get_item_cache\u001b[0m\u001b[0;34m(\u001b[0m\u001b[0mkey\u001b[0m\u001b[0;34m)\u001b[0m\u001b[0;34m\u001b[0m\u001b[0m\n\u001b[0m\u001b[1;32m   1972\u001b[0m \u001b[0;34m\u001b[0m\u001b[0m\n\u001b[1;32m   1973\u001b[0m         \u001b[0;31m# duplicate columns & possible reduce dimensionality\u001b[0m\u001b[0;34m\u001b[0m\u001b[0;34m\u001b[0m\u001b[0m\n",
      "\u001b[0;32m/home/god/anaconda3/envs/py27/lib/python2.7/site-packages/pandas/core/generic.pyc\u001b[0m in \u001b[0;36m_get_item_cache\u001b[0;34m(self, item)\u001b[0m\n\u001b[1;32m   1643\u001b[0m         \u001b[0mres\u001b[0m \u001b[0;34m=\u001b[0m \u001b[0mcache\u001b[0m\u001b[0;34m.\u001b[0m\u001b[0mget\u001b[0m\u001b[0;34m(\u001b[0m\u001b[0mitem\u001b[0m\u001b[0;34m)\u001b[0m\u001b[0;34m\u001b[0m\u001b[0m\n\u001b[1;32m   1644\u001b[0m         \u001b[0;32mif\u001b[0m \u001b[0mres\u001b[0m \u001b[0;32mis\u001b[0m \u001b[0mNone\u001b[0m\u001b[0;34m:\u001b[0m\u001b[0;34m\u001b[0m\u001b[0m\n\u001b[0;32m-> 1645\u001b[0;31m             \u001b[0mvalues\u001b[0m \u001b[0;34m=\u001b[0m \u001b[0mself\u001b[0m\u001b[0;34m.\u001b[0m\u001b[0m_data\u001b[0m\u001b[0;34m.\u001b[0m\u001b[0mget\u001b[0m\u001b[0;34m(\u001b[0m\u001b[0mitem\u001b[0m\u001b[0;34m)\u001b[0m\u001b[0;34m\u001b[0m\u001b[0m\n\u001b[0m\u001b[1;32m   1646\u001b[0m             \u001b[0mres\u001b[0m \u001b[0;34m=\u001b[0m \u001b[0mself\u001b[0m\u001b[0;34m.\u001b[0m\u001b[0m_box_item_values\u001b[0m\u001b[0;34m(\u001b[0m\u001b[0mitem\u001b[0m\u001b[0;34m,\u001b[0m \u001b[0mvalues\u001b[0m\u001b[0;34m)\u001b[0m\u001b[0;34m\u001b[0m\u001b[0m\n\u001b[1;32m   1647\u001b[0m             \u001b[0mcache\u001b[0m\u001b[0;34m[\u001b[0m\u001b[0mitem\u001b[0m\u001b[0;34m]\u001b[0m \u001b[0;34m=\u001b[0m \u001b[0mres\u001b[0m\u001b[0;34m\u001b[0m\u001b[0m\n",
      "\u001b[0;32m/home/god/anaconda3/envs/py27/lib/python2.7/site-packages/pandas/core/internals.pyc\u001b[0m in \u001b[0;36mget\u001b[0;34m(self, item, fastpath)\u001b[0m\n\u001b[1;32m   3588\u001b[0m \u001b[0;34m\u001b[0m\u001b[0m\n\u001b[1;32m   3589\u001b[0m             \u001b[0;32mif\u001b[0m \u001b[0;32mnot\u001b[0m \u001b[0misnull\u001b[0m\u001b[0;34m(\u001b[0m\u001b[0mitem\u001b[0m\u001b[0;34m)\u001b[0m\u001b[0;34m:\u001b[0m\u001b[0;34m\u001b[0m\u001b[0m\n\u001b[0;32m-> 3590\u001b[0;31m                 \u001b[0mloc\u001b[0m \u001b[0;34m=\u001b[0m \u001b[0mself\u001b[0m\u001b[0;34m.\u001b[0m\u001b[0mitems\u001b[0m\u001b[0;34m.\u001b[0m\u001b[0mget_loc\u001b[0m\u001b[0;34m(\u001b[0m\u001b[0mitem\u001b[0m\u001b[0;34m)\u001b[0m\u001b[0;34m\u001b[0m\u001b[0m\n\u001b[0m\u001b[1;32m   3591\u001b[0m             \u001b[0;32melse\u001b[0m\u001b[0;34m:\u001b[0m\u001b[0;34m\u001b[0m\u001b[0m\n\u001b[1;32m   3592\u001b[0m                 \u001b[0mindexer\u001b[0m \u001b[0;34m=\u001b[0m \u001b[0mnp\u001b[0m\u001b[0;34m.\u001b[0m\u001b[0marange\u001b[0m\u001b[0;34m(\u001b[0m\u001b[0mlen\u001b[0m\u001b[0;34m(\u001b[0m\u001b[0mself\u001b[0m\u001b[0;34m.\u001b[0m\u001b[0mitems\u001b[0m\u001b[0;34m)\u001b[0m\u001b[0;34m)\u001b[0m\u001b[0;34m[\u001b[0m\u001b[0misnull\u001b[0m\u001b[0;34m(\u001b[0m\u001b[0mself\u001b[0m\u001b[0;34m.\u001b[0m\u001b[0mitems\u001b[0m\u001b[0;34m)\u001b[0m\u001b[0;34m]\u001b[0m\u001b[0;34m\u001b[0m\u001b[0m\n",
      "\u001b[0;32m/home/god/anaconda3/envs/py27/lib/python2.7/site-packages/pandas/core/indexes/base.pyc\u001b[0m in \u001b[0;36mget_loc\u001b[0;34m(self, key, method, tolerance)\u001b[0m\n\u001b[1;32m   2442\u001b[0m                 \u001b[0;32mreturn\u001b[0m \u001b[0mself\u001b[0m\u001b[0;34m.\u001b[0m\u001b[0m_engine\u001b[0m\u001b[0;34m.\u001b[0m\u001b[0mget_loc\u001b[0m\u001b[0;34m(\u001b[0m\u001b[0mkey\u001b[0m\u001b[0;34m)\u001b[0m\u001b[0;34m\u001b[0m\u001b[0m\n\u001b[1;32m   2443\u001b[0m             \u001b[0;32mexcept\u001b[0m \u001b[0mKeyError\u001b[0m\u001b[0;34m:\u001b[0m\u001b[0;34m\u001b[0m\u001b[0m\n\u001b[0;32m-> 2444\u001b[0;31m                 \u001b[0;32mreturn\u001b[0m \u001b[0mself\u001b[0m\u001b[0;34m.\u001b[0m\u001b[0m_engine\u001b[0m\u001b[0;34m.\u001b[0m\u001b[0mget_loc\u001b[0m\u001b[0;34m(\u001b[0m\u001b[0mself\u001b[0m\u001b[0;34m.\u001b[0m\u001b[0m_maybe_cast_indexer\u001b[0m\u001b[0;34m(\u001b[0m\u001b[0mkey\u001b[0m\u001b[0;34m)\u001b[0m\u001b[0;34m)\u001b[0m\u001b[0;34m\u001b[0m\u001b[0m\n\u001b[0m\u001b[1;32m   2445\u001b[0m \u001b[0;34m\u001b[0m\u001b[0m\n\u001b[1;32m   2446\u001b[0m         \u001b[0mindexer\u001b[0m \u001b[0;34m=\u001b[0m \u001b[0mself\u001b[0m\u001b[0;34m.\u001b[0m\u001b[0mget_indexer\u001b[0m\u001b[0;34m(\u001b[0m\u001b[0;34m[\u001b[0m\u001b[0mkey\u001b[0m\u001b[0;34m]\u001b[0m\u001b[0;34m,\u001b[0m \u001b[0mmethod\u001b[0m\u001b[0;34m=\u001b[0m\u001b[0mmethod\u001b[0m\u001b[0;34m,\u001b[0m \u001b[0mtolerance\u001b[0m\u001b[0;34m=\u001b[0m\u001b[0mtolerance\u001b[0m\u001b[0;34m)\u001b[0m\u001b[0;34m\u001b[0m\u001b[0m\n",
      "\u001b[0;32mpandas/_libs/index.pyx\u001b[0m in \u001b[0;36mpandas._libs.index.IndexEngine.get_loc\u001b[0;34m()\u001b[0m\n",
      "\u001b[0;32mpandas/_libs/index.pyx\u001b[0m in \u001b[0;36mpandas._libs.index.IndexEngine.get_loc\u001b[0;34m()\u001b[0m\n",
      "\u001b[0;32mpandas/_libs/hashtable_class_helper.pxi\u001b[0m in \u001b[0;36mpandas._libs.hashtable.PyObjectHashTable.get_item\u001b[0;34m()\u001b[0m\n",
      "\u001b[0;32mpandas/_libs/hashtable_class_helper.pxi\u001b[0m in \u001b[0;36mpandas._libs.hashtable.PyObjectHashTable.get_item\u001b[0;34m()\u001b[0m\n",
      "\u001b[0;31mKeyError\u001b[0m: 'x'"
     ]
    }
   ],
   "source": [
    "\n",
    "all_data = pd.read_csv('./data/processed_data.csv',sep=\",\")\n",
    "\n",
    "# convert the 30 km to cartesian coordinates distance\n",
    "#dist = kmToDIST(1)\n",
    "\n",
    "\n",
    "# create the KD-tree using the 3D cartesian coordinates\n",
    "coordinates = list(zip(all_data['x'], all_data['y'], all_data['z']))\n",
    "tree = spatial.cKDTree(coordinates)\n",
    "\n",
    "\n",
    "# get all the points within 30 km from the reference point\n",
    "#ix = tree.query_ball_point((x_ref, y_ref, z_ref), dist)\n",
    "\n",
    "\n",
    "\n",
    "coordinates_graph=[[]]\n",
    "for i in range(len(all_data)):\n",
    "    x = all_data['long_wgs84'][i]\n",
    "    y = all_data['lat_wgs84'][i]\n",
    "    name = all_data['address']\n",
    "    name = all_data['name']\n",
    "    print(\"Node : \",i,x,y,name)\n",
    "    #Determine reference point\n",
    "    x_ref, y_ref, z_ref = to_Cartesian(x,y)\n",
    "    # get the cartesian distances from the 10 closest points\n",
    "    dist, ix = tree.query((x_ref, y_ref, z_ref), 5)\n",
    "    for dist in dist[1:]:\n",
    "        # print out the real distances in km\n",
    "        print(distToKM(dist))\n",
    "        #print(all_data.iloc[[ix[0]]])\n"
   ]
  },
  {
   "cell_type": "code",
   "execution_count": null,
   "metadata": {
    "collapsed": true
   },
   "outputs": [],
   "source": [
    "\n",
    "addresses = []\n",
    "\n",
    "\n",
    "for point in range(len(all_data)):\n",
    "    x=all_data['lat_wgs84'][point]\n",
    "    y=all_data['long_wgs84'][point]\n",
    "    pm=all_data['pm2.5'][point]\n",
    "    #lon, lat = feat['geometry']['coordinates']\n",
    "    name = clnt.reverse_geocode(location=(y, x))['features'][0]['properties']['name']\n",
    "    print(name)\n",
    "    #popup = \"<strong>{0}</strong><br>Lat: {1:.3f}<br>Long: {2:.3f}\".format(name, lat, lon)\n",
    "    #icon = folium.map.Icon(color='lightgray',\n",
    "    #                    icon_color='#b5231a',\n",
    "    #                    icon='beer', # fetches font-awesome.io symbols\n",
    "    #                    prefix='fa')\n",
    "    #folium.map.Marker([lat, lon], icon=icon, popup=popup).add_to(m)\n",
    "    #addresses.append(name)"
   ]
  },
  {
   "cell_type": "code",
   "execution_count": 4,
   "metadata": {},
   "outputs": [
    {
     "ename": "NameError",
     "evalue": "name 'locationlist' is not defined",
     "output_type": "error",
     "traceback": [
      "\u001b[0;31m---------------------------------------------------------------------------\u001b[0m",
      "\u001b[0;31mNameError\u001b[0m                                 Traceback (most recent call last)",
      "\u001b[0;32m<ipython-input-4-7afce693e07e>\u001b[0m in \u001b[0;36m<module>\u001b[0;34m()\u001b[0m\n\u001b[1;32m     15\u001b[0m     \u001b[0mtext\u001b[0m \u001b[0;34m=\u001b[0m \u001b[0;34mu\"<strong>{0}</strong><br>Lat: {1:.3f}<br>Long: {2:.3f}\"\u001b[0m\u001b[0;34m.\u001b[0m\u001b[0mformat\u001b[0m\u001b[0;34m(\u001b[0m\u001b[0maddress\u001b[0m\u001b[0;34m,\u001b[0m \u001b[0mx\u001b[0m\u001b[0;34m,\u001b[0m \u001b[0my\u001b[0m\u001b[0;34m)\u001b[0m\u001b[0;34m\u001b[0m\u001b[0m\n\u001b[1;32m     16\u001b[0m     \u001b[0mpopup\u001b[0m \u001b[0;34m=\u001b[0m \u001b[0mfolium\u001b[0m\u001b[0;34m.\u001b[0m\u001b[0mPopup\u001b[0m\u001b[0;34m(\u001b[0m\u001b[0mtext\u001b[0m\u001b[0;34m,\u001b[0m \u001b[0mparse_html\u001b[0m\u001b[0;34m=\u001b[0m\u001b[0mTrue\u001b[0m\u001b[0;34m)\u001b[0m\u001b[0;34m\u001b[0m\u001b[0m\n\u001b[0;32m---> 17\u001b[0;31m     folium.CircleMarker(locationlist[point],popup=popup,fill_color=\"#3db7e4\",radius=5# divvy color\n\u001b[0m\u001b[1;32m     18\u001b[0m                        ).add_to(map)\n\u001b[1;32m     19\u001b[0m \u001b[0mmap\u001b[0m\u001b[0;34m\u001b[0m\u001b[0m\n",
      "\u001b[0;31mNameError\u001b[0m: name 'locationlist' is not defined"
     ]
    }
   ],
   "source": [
    "#Initialize map at starting location\n",
    "map = folium.Map(location=[50.821658, 4.394886], zoom_start=15)\n",
    "\n",
    "\n",
    "\n",
    "\n",
    "max_amount = float(all_data['pm2.5'].max())\n",
    "for point in range(0, len(all_data)):\n",
    "    #t='{0},({1}): {2}'.format(area_of_circle, points, estimate(radius, points))\n",
    "    address=all_data['address'][point].split('-')[0].decode('latin-1').capitalize()\n",
    "    x=all_data['latitude'][point]\n",
    "    y=all_data['longitude'][point]\n",
    "    pm=all_data['pm2.5'][point]\n",
    "    #text=u\"<strong>{0}</strong><br>Lat: {1:.3f}<br>Long: {2:.3f}\".format(address,x,y,pm)\n",
    "    text = u\"<strong>{0}</strong><br>Lat: {1:.3f}<br>Long: {2:.3f}\".format(address, x, y)\n",
    "    popup = folium.Popup(text, parse_html=True)\n",
    "    folium.CircleMarker(locationlist[point],popup=popup,fill_color=\"#3db7e4\",radius=5# divvy color\n",
    "                       ).add_to(map)\n",
    "map "
   ]
  },
  {
   "cell_type": "code",
   "execution_count": null,
   "metadata": {
    "collapsed": true
   },
   "outputs": [],
   "source": [
    "shapely.speedups.enable()\n",
    "\n",
    "\n",
    "\n",
    "\n",
    "bounded_area = [[50.809956 ,4.375437],[50.809956 ,4.380227],[50.825817,4.404967],[50.825817 ,4.403449]]\n",
    "\n",
    "\n",
    "#Sort dataframe by coordinates\n",
    "#all_data = all_data.sort_values(['latitude', 'longitude'], ascending=[True, True])\n",
    "\n",
    "\n",
    "#Reset the indexes of dataframe after sorting\n",
    "#all_data = all_data.reset_index(drop=True)\n",
    "\n",
    "#\n",
    "#all_data = all_data[0:20]\n",
    "locations = all_data[['lat_wgs84', 'long_wgs84']]\n",
    "locations = all_data[['long_wgs84', 'lat_wgs84']]\n",
    "locations = all_data[['longitude', 'latitude']]\n",
    "locationlist = locations.values.tolist()\n",
    "\n",
    "\n",
    "wkt_str = 'Polygon ((13.43926404 52.48961046, 13.42040115 52.49586382, 13.42541101 52.48808523, 13.42368155 52.48635829, 13.40788599 52.48886084, 13.40852944 52.487142, 13.40745989 52.48614988, 13.40439187 52.48499746, 13.40154731 52.48500125, 13.40038591 52.48373202, 13.39423818 52.4838664, 13.39425346 52.48577149, 13.38629096 52.48582648, 13.38626853 52.48486362, 13.3715694 52.48495055, 13.37402099 52.4851697, 13.37416365 52.48771105, 13.37353615 52.48798191, 13.37539925 52.489432, 13.37643416 52.49167597, 13.36821531 52.49333093, 13.36952826 52.49886974, 13.37360623 52.50416333, 13.37497726 52.50337776, 13.37764916 52.5079675, 13.37893813 52.50693045, 13.39923153 52.50807711, 13.40022883 52.50938108, 13.40443425 52.50777471, 13.4052848 52.50821063, 13.40802944 52.50618019, 13.40997081 52.50692569, 13.41152096 52.50489127, 13.41407284 52.50403794, 13.41490921 52.50491634, 13.41760145 52.50417013, 13.41943091 52.50564912, 13.4230412 52.50498109, 13.42720031 52.50566607, 13.42940229 52.50857222, 13.45335235 52.49752496, 13.45090795 52.49710803, 13.44765912 52.49472124, 13.44497623 52.49442276, 13.43926404 52.48961046))'\n",
    "\n",
    "aoi_geom = wkt.loads(wkt_str) # load geometry from WKT string\n",
    "\n",
    "aoi_coords = list(aoi_geom.exterior.coords) # get coords from exterior ring\n",
    "aoi_coords = [(y,x) for x,y in aoi_coords] # swap (x,y) to (y,x). Really leaflet?!\n",
    "aoi_centroid = aoi_geom.centroid # Kreuzberg center for map center\n",
    "\n",
    "from openrouteservice import client, places\n",
    "\n",
    "\n",
    "\n",
    "\n",
    "gdf = gpd.GeoDataFrame(all_data.drop(['latitude', 'longitude'], axis=1),\n",
    "                                crs={'init': 'epsg:4326'},\n",
    "                                geometry=[shapely.geometry.Point(xy) for xy in zip(all_data.latitude, all_data.longitude)])\n",
    "\n",
    "# Make a new RequestConfig object\n",
    "MyConfig = osrm.RequestConfig()\n",
    "MyConfig.host = \"http://router.project-osrm.org\"  # Only change the host\n",
    "osrm.RequestConfig.host = \"router.project-osrm.org\"\n",
    "osrm.RequestConfig.host\n",
    "\n",
    "\n",
    "\n",
    "#print(result)\n",
    "from scipy import spatial\n",
    "\n",
    "\n",
    "  \n",
    "import math\n",
    "from collections import namedtuple\n",
    "\n",
    "def haversine_distance(origin, destination):\n",
    "  \"\"\" Haversine formula to calculate the distance between two lat/long points on a sphere \"\"\"\n",
    "\n",
    "  radius = 6371 # FAA approved globe radius in km\n",
    "\n",
    "  dlat = math.radians(destination.lat-origin.lat)\n",
    "  dlon = math.radians(destination.lng-origin.lng)\n",
    "  a = math.sin(dlat/2) * math.sin(dlat/2) + math.cos(math.radians(origin.lat)) \\\n",
    "      * math.cos(math.radians(destination.lat)) * math.sin(dlon/2) * math.sin(dlon/2)\n",
    "  c = 2 * math.atan2(math.sqrt(a), math.sqrt(1-a))\n",
    "  d = radius * c\n",
    "\n",
    "  # Return distance in km\n",
    "  return int(math.floor(d))\n",
    "\n",
    "LatLng = namedtuple('LatLng', 'lat, lng')\n",
    "\n",
    "\n",
    "#for origin_coordinates in locationlist:\n",
    "#    origin = LatLng(origin_coordinates[0], origin_coordinates[1]) # London\n",
    "#    for destination_coordinates in locationlist:\n",
    "#        destination = LatLng(destination_coordinates[0], destination_coordinates[1]) # Athens\n",
    "     \n",
    "# convert the grid points and reference points to cartesian coordinates\n",
    "\n",
    "# convert the grid points and reference points to cartesian coordinates\n",
    "#x, y, z = zip(*map(to_Cartesian, lats_1d, lons_1d))\n",
    "\n",
    "all_data['x'], all_data['y'], all_data['z'] = zip(*map(to_Cartesian, all_data['lat_wgs84'], all_data['long_wgs84']))\n"
   ]
  },
  {
   "cell_type": "code",
   "execution_count": null,
   "metadata": {
    "collapsed": true
   },
   "outputs": [],
   "source": [
    "from math import *\n",
    "\n",
    "def to_Cartesian(lat, lng):\n",
    "    '''\n",
    "    function to convert latitude and longitude to 3D cartesian coordinates\n",
    "    '''\n",
    "    R = 6371 # radius of the Earth in kilometers\n",
    "\n",
    "    x = R * cos(lat) * cos(lng)\n",
    "    y = R * cos(lat) * sin(lng)\n",
    "    z = R * sin(lat)\n",
    "    return x, y, z\n",
    "\n",
    "def deg2rad(degree):\n",
    "    '''\n",
    "    function to convert degree to radian\n",
    "    '''\n",
    "    rad = degree * 2*np.pi / 360\n",
    "    return(rad)\n",
    "\n",
    "def rad2deg(rad):\n",
    "    '''\n",
    "    function to convert radian to degree\n",
    "    '''\n",
    "    degree = rad/2/np.pi * 360\n",
    "    return(degree)\n",
    "\n",
    "def distToKM(x):\n",
    "    '''\n",
    "    function to convert cartesian distance to real distance in km\n",
    "    '''\n",
    "    R = 6371 # earth radius\n",
    "    gamma = 2*np.arcsin(deg2rad(x/(2*R))) # compute the angle of the isosceles triangle\n",
    "    dist = 2*R*sin(gamma/2) # compute the side of the triangle\n",
    "    return(dist)\n",
    "\n",
    "def kmToDIST(x):\n",
    "    '''\n",
    "    function to convert real distance in km to cartesian distance \n",
    "    '''\n",
    "    R = 6371 # earth radius\n",
    "    gamma = 2*np.arcsin(x/2./R) \n",
    "    \n",
    "    dist = 2*R*rad2deg(sin(gamma / 2.))\n",
    "    return(dist)"
   ]
  },
  {
   "cell_type": "code",
   "execution_count": null,
   "metadata": {
    "collapsed": true
   },
   "outputs": [],
   "source": [
    "from math import cos, asin, sqrt\n",
    "\n",
    "def distance(lat1, lon1, lat2, lon2):\n",
    "    p = 0.017453292519943295\n",
    "    a = 0.5 - cos((lat2-lat1)*p)/2 + cos(lat1*p)*cos(lat2*p) * (1-cos((lon2-lon1)*p)) / 2\n",
    "    return 12742 * asin(sqrt(a))\n",
    "\n",
    "def closest(data, v):\n",
    "    return min(data, key=lambda p: distance(v['lat'],v['lon'],p['lat'],p['lon']))\n",
    "\n",
    "tempDataList = [{'lat': 39.7612992, 'lon': -86.1519681}, \n",
    "                {'lat': 39.762241,  'lon': -86.158436 }, \n",
    "                {'lat': 39.7622292, 'lon': -86.1578917}]\n",
    "\n",
    "v = {'lat': 39.7622290, 'lon': -86.1519750}\n",
    "print(closest(tempDataList, v))"
   ]
  },
  {
   "cell_type": "code",
   "execution_count": null,
   "metadata": {
    "collapsed": true
   },
   "outputs": [],
   "source": [
    "for origin_coordinates in locationlist:\n",
    "    origin = LatLng(origin_coordinates[0], origin_coordinates[1]) # London\n",
    "    for destination_coordinates in locationlist:\n",
    "        destination = LatLng(destination_coordinates[0], destination_coordinates[1]) # Athens\n",
    "        result = osrm.simple_route(origin, destination)\n",
    " \n"
   ]
  },
  {
   "cell_type": "code",
   "execution_count": null,
   "metadata": {
    "collapsed": true
   },
   "outputs": [],
   "source": [
    "from scipy import spatial\n",
    "import numpy as np\n",
    "import matplotlib.pyplot as plt\n",
    "\n",
    "%matplotlib inline\n",
    "\n",
    "plt.style.use('seaborn-poster')\n",
    "\n",
    "# define map ranges\n",
    "llat = 50.821658\n",
    "ulat = 60\n",
    "llon = 4.394886\n",
    "ulon = 5\n",
    "\n",
    "# generate grid points\n",
    "lats = np.arange(llat, ulat, 0.1)\n",
    "lons = np.arange(llon, ulon, 0.1)\n",
    "lons, lats = np.meshgrid(lons, lats)\n",
    "\n",
    "# flatten the locations\n",
    "lons_1d = lons.flatten()\n",
    "lats_1d = lats.flatten()\n",
    "\n",
    "# reference point as the center of the map\n",
    "lat_0 = (llat + ulat) / 2.\n",
    "lon_0 = (llon + ulon) / 2.\n",
    "\n",
    "coordinates = [[lons_1d[i],lats_1d[i]] for i in range(len(lats))]\n",
    "print(coordinates)\n",
    "\n",
    "map = folium.Map(location=[50.821658, 4.394886], zoom_start=15)\n",
    "\n",
    "\n",
    "\n"
   ]
  },
  {
   "cell_type": "code",
   "execution_count": null,
   "metadata": {
    "collapsed": true
   },
   "outputs": [],
   "source": []
  },
  {
   "cell_type": "code",
   "execution_count": null,
   "metadata": {
    "collapsed": true
   },
   "outputs": [],
   "source": [
    "\n",
    "\n",
    "\n",
    "\n",
    "  \n",
    "map.add_child(plugins.HeatMap(stationArr,\n",
    "                                 radius=15,\n",
    "                                 min_opacity=0.1,\n",
    "                                 max_val=max_amount,\n",
    "                                 blur=0, \n",
    "                                 max_zoom=10))   \n",
    "map\n",
    "map.save('routing.html')\n",
    "\n",
    "#map.save('main.html')"
   ]
  },
  {
   "cell_type": "code",
   "execution_count": null,
   "metadata": {
    "collapsed": true
   },
   "outputs": [],
   "source": [
    "\n",
    "\n",
    "from scipy import spatial\n",
    "tree = spatial.KDTree(locationlist)\n",
    "\n",
    "for coordinates in locationlist:\n",
    "    x = coordinates[0]\n",
    "    y = coordinates[1]\n",
    "    result = tree.query(coordinates)\n",
    "    print(result)\n",
    "#tree = spatial.KDTree(locationlist)\n",
    "#tree.query([(21,21)])"
   ]
  },
  {
   "cell_type": "code",
   "execution_count": null,
   "metadata": {
    "collapsed": true
   },
   "outputs": [],
   "source": [
    "result = osrm.simple_route(\n",
    "                      [21.0566163803209,42.004088575972], [20.9574645547597, 41.5286973392856],\n",
    "                      output='route', overview=\"full\", geometry='wkt')\n",
    "print(result)"
   ]
  },
  {
   "cell_type": "code",
   "execution_count": null,
   "metadata": {
    "collapsed": true
   },
   "outputs": [],
   "source": [
    "locationlist = locationlist[0:10]\n",
    "\n",
    "from openrouteservice import distance_matrix\n",
    "\n",
    "\n",
    "request = {'locations': locationlist,\n",
    "           'profile': 'driving-hgv',\n",
    "           'metrics': ['duration']}\n",
    "    \n",
    "pubs_matrix = clnt.distance_matrix(**request)\n",
    "print(pubs_matrix)\n",
    "print(\"Calculated {}x{} routes.\".format(len(pubs_matrix['durations']),len(pubs_matrix['durations'][0])))"
   ]
  },
  {
   "cell_type": "code",
   "execution_count": null,
   "metadata": {
    "collapsed": true
   },
   "outputs": [],
   "source": [
    "o,r, c = osrm.table(locationlist, output='dataframe')\n",
    "print(o)"
   ]
  },
  {
   "cell_type": "code",
   "execution_count": null,
   "metadata": {
    "collapsed": true,
    "scrolled": true
   },
   "outputs": [],
   "source": [
    "from ortools.constraint_solver import pywrapcp\n",
    "from ortools.constraint_solver import routing_enums_pb2\n",
    "\n",
    "def getDistance(from_id, to_id):\n",
    "    return int(pubs_matrix['durations'][from_id][to_id])\n",
    "\n",
    "tsp_size = len(locationlist)\n",
    "num_routes = 10\n",
    "start = 0 # arbitrary start location\n",
    "coords_aoi = [(y,x) for x,y in aoi_coords] # swap (x,y) to (y,x)\n",
    "\n",
    "optimal_coords = []\n",
    "\n",
    "if tsp_size > 0:\n",
    "    routing = pywrapcp.RoutingModel(tsp_size, num_routes, start)\n",
    "    search_parameters = pywrapcp.RoutingModel.DefaultSearchParameters()\n",
    "\n",
    "    # Create the distance callback, which takes two arguments (the from and to node indices)\n",
    "    # and returns the distance between these nodes.\n",
    "    dist_callback = getDistance\n",
    "    routing.SetArcCostEvaluatorOfAllVehicles(dist_callback)\n",
    "    # Solve, returns a solution if any.\n",
    "    assignment = routing.SolveWithParameters(search_parameters)\n",
    "    if assignment:\n",
    "        # Total cost of the 'optimal' solution.\n",
    "        print(\"Total duration: \" + str(round(assignment.ObjectiveValue(), 3) / 60) + \" minutes\\n\")\n",
    "        index = routing.Start(start) # Index of the variable for the starting node.\n",
    "        route = ''\n",
    "#         while not routing.IsEnd(index):\n",
    "        for node in range(routing.nodes()):\n",
    "            optimal_coords.append(locationlist[routing.IndexToNode(index)])\n",
    "            #route += str(pubs_addresses[routing.IndexToNode(index)]) + ' -> '\n",
    "            index = assignment.Value(routing.NextVar(index))\n",
    "        #route += str(pubs_addresses[routing.IndexToNode(index)])\n",
    "        optimal_coords.append(locationlist[routing.IndexToNode(index)])\n",
    "        print(optimal_coords)"
   ]
  },
  {
   "cell_type": "code",
   "execution_count": null,
   "metadata": {
    "collapsed": true
   },
   "outputs": [],
   "source": [
    "from openrouteservice import directions\n",
    "import os.path\n",
    "\n",
    "def style_function(color):\n",
    "    return lambda feature: dict(color=color,\n",
    "                              weight=3,\n",
    "                              opacity=1)\n",
    "\n",
    "\n",
    "\n",
    "\n",
    "folium.features.GeoJson(data=optimal_route,\n",
    "                        name='Optimal Bar Crawl',\n",
    "                        style_function=style_function('#6666ff'),\n",
    "                       overlay=True).add_to(map)\n",
    "\n",
    "map.add_child(folium.map.LayerControl())\n",
    "map"
   ]
  },
  {
   "cell_type": "code",
   "execution_count": null,
   "metadata": {
    "collapsed": true
   },
   "outputs": [],
   "source": [
    "def haversine_np(lon1, lat1, lon2, lat2):\n",
    "    \"\"\"\n",
    "    Calculate the great circle distance between two points\n",
    "    on the earth (specified in decimal degrees)\n",
    "\n",
    "    All args must be of equal length.    \n",
    "\n",
    "    \"\"\"\n",
    "    lon1, lat1, lon2, lat2 = map(np.radians, [lon1, lat1, lon2, lat2])\n",
    "\n",
    "    dlon = lon2 - lon1\n",
    "    dlat = lat2 - lat1\n",
    "\n",
    "    a = np.sin(dlat/2.0)**2 + np.cos(lat1) * np.cos(lat2) * np.sin(dlon/2.0)**2\n",
    "\n",
    "    c = 2 * np.arcsin(np.sqrt(a))\n",
    "    km = 6367 * c\n",
    "    return km\n",
    "\n",
    "df['dist'] = \\\n",
    "    haversine_np(df.LONG.shift(), df.LAT.shift(),\n",
    "                 df.loc[1:, 'LONG'], df.loc[1:, 'LAT'])\n",
    "    \n",
    "    \n",
    "    "
   ]
  },
  {
   "cell_type": "code",
   "execution_count": null,
   "metadata": {
    "collapsed": true
   },
   "outputs": [],
   "source": [
    "from ortools.constraint_solver import pywrapcp\n",
    "from ortools.constraint_solver import routing_enums_pb2\n",
    "\n",
    "def getDistance(from_id, to_id):\n",
    "    return int(pubs_matrix['durations'][from_id][to_id])\n",
    "\n",
    "tsp_size = len(locationlist[0:2])\n",
    "num_routes = 1\n",
    "start = 0 # arbitrary start location\n",
    "coords_aoi = [(y,x) for x,y in aoi_coords] # swap (x,y) to (y,x)\n",
    "\n",
    "optimal_coords = []\n",
    "\n",
    "if tsp_size > 0:\n",
    "    routing = pywrapcp.RoutingModel(tsp_size, num_routes, start)\n",
    "    search_parameters = pywrapcp.RoutingModel.DefaultSearchParameters()\n",
    "\n",
    "    # Create the distance callback, which takes two arguments (the from and to node indices)\n",
    "    # and returns the distance between these nodes.\n",
    "    dist_callback = getDistance\n",
    "    routing.SetArcCostEvaluatorOfAllVehicles(dist_callback)\n",
    "    # Solve, returns a solution if any.\n",
    "    assignment = routing.SolveWithParameters(search_parameters)\n",
    "    if assignment:\n",
    "        # Total cost of the 'optimal' solution.\n",
    "        print(\"Total duration: \" + str(round(assignment.ObjectiveValue(), 3) / 60) + \" minutes\\n\")\n",
    "        index = routing.Start(start) # Index of the variable for the starting node.\n",
    "        route = ''\n",
    "#         while not routing.IsEnd(index):\n",
    "        for node in range(routing.nodes()):\n",
    "            optimal_coords.append(pubs_coords[routing.IndexToNode(index)])\n",
    "            print(pubs_addresses[routing.IndexToNode(index)])\n",
    "            route += str(pubs_addresses[routing.IndexToNode(index)]) + ' -> '\n",
    "            index = assignment.Value(routing.NextVar(index))\n",
    "        route += str(pubs_addresses[routing.IndexToNode(index)])\n",
    "        optimal_coords.append(pubs_coords[routing.IndexToNode(index)])\n",
    "        print(\"Route:\\n\" + route)"
   ]
  },
  {
   "cell_type": "code",
   "execution_count": null,
   "metadata": {
    "collapsed": true
   },
   "outputs": [],
   "source": [
    "\n",
    "import random\n",
    "from deap import creator, base, tools, algorithms\n",
    "\n",
    "creator.create(\"FitnessMax\", base.Fitness, weights=(1.0,))\n",
    "creator.create(\"Individual\", list, fitness=creator.FitnessMax)\n",
    "\n",
    "toolbox = base.Toolbox()\n",
    "\n",
    "toolbox.register(\"attr_bool\", random.randint, 0, 1)\n",
    "toolbox.register(\"individual\", tools.initRepeat, creator.Individual, toolbox.attr_bool, n=100)\n",
    "toolbox.register(\"population\", tools.initRepeat, list, toolbox.individual)\n",
    "\n",
    "def evalOneMax(individual):\n",
    "    return sum(individual),\n",
    "\n",
    "toolbox.register(\"evaluate\", evalOneMax)\n",
    "toolbox.register(\"mate\", tools.cxTwoPoint)\n",
    "toolbox.register(\"mutate\", tools.mutFlipBit, indpb=0.05)\n",
    "toolbox.register(\"select\", tools.selTournament, tournsize=3)\n",
    "\n",
    "population = toolbox.population(n=300)\n",
    "\n",
    "NGEN=40\n",
    "for gen in range(NGEN):\n",
    "    offspring = algorithms.varAnd(population, toolbox, cxpb=0.5, mutpb=0.1)\n",
    "    fits = toolbox.map(toolbox.evaluate, offspring)\n",
    "    for fit, ind in zip(fits, offspring):\n",
    "        ind.fitness.values = fit\n",
    "    population = toolbox.select(offspring, k=len(population))\n",
    "top10 = tools.selBest(population, k=10)\n",
    "\n",
    "print(top10)"
   ]
  },
  {
   "cell_type": "code",
   "execution_count": null,
   "metadata": {
    "collapsed": true,
    "scrolled": false
   },
   "outputs": [],
   "source": [
    "platypus\n"
   ]
  },
  {
   "cell_type": "code",
   "execution_count": null,
   "metadata": {
    "collapsed": true
   },
   "outputs": [],
   "source": []
  },
  {
   "cell_type": "code",
   "execution_count": null,
   "metadata": {
    "collapsed": true
   },
   "outputs": [],
   "source": [
    "\n"
   ]
  },
  {
   "cell_type": "markdown",
   "metadata": {},
   "source": [
    "## Data Prep\n",
    "In this section I create two GeoDataFrames: one of crime points and one of census tract boundaries with crime densities. Both of these will then be plotted on a web map as separate layers.\n",
    "\n",
    "### Read in Crime Data and Create a GeoDataFrame\n",
    "First I read in a CSV file of San Francisco Police Incidents for the current year into a Pandas DataFrame. I downloaded the raw data from the San Francisco [Open Data Portal](https://data.sfgov.org/). Because there are so many crime incidents, I select a subset of the data: crimes in the \"assault\" category that were committed in the last 10 days. As shown below, this leaves me with 329 police incidents. \n"
   ]
  },
  {
   "cell_type": "code",
   "execution_count": null,
   "metadata": {
    "collapsed": true
   },
   "outputs": [],
   "source": [
    "#Read in CSV file specifying date field and encoding. Sort by date\n",
    "all_crime = pd.read_csv('SFPD_Incidents_-_Current_Year__2016_.csv', parse_dates = ['Date'],\\\n",
    "                        encoding = 'utf-8').sort_values('Date').reset_index(drop=True)\n",
    "\n",
    "#Clean up the encoding on the Crime Description field \n",
    "all_crime.Descript = all_crime.Descript.apply(lambda x: unicodedata.normalize(\"NFKD\", x))\n",
    "\n",
    "#Create a field that contains a string representation of the date, for later use\n",
    "all_crime['DateStr'] = all_crime.Date.apply(lambda x: x.strftime(\"%Y-%m-%d\"))\n",
    "\n",
    "#Identify those crimes that are categorized as assaults\n",
    "is_assault = all_crime.Category == 'ASSAULT' \n",
    "\n",
    "#Identify those crimes that were committed in the most recent 10 days of the dataset\n",
    "recent = all_crime.Date.isin(all_crime.Date.unique()[-10:]) \n",
    "\n",
    "#Subset the data to get assaults commited within the last 10 days\n",
    "assaults = all_crime[is_assault & recent].drop_duplicates('IncidntNum').reset_index(drop = True)\n",
    "assaults = assaults[['IncidntNum', 'Descript', 'DateStr', 'Time', 'Address','X', 'Y']]\n",
    "print '{} assaults in the last 10 days'.format(str(len(assaults)))"
   ]
  },
  {
   "cell_type": "markdown",
   "metadata": {},
   "source": [
    "I now want to convert the assault data Pandas DataFrame to a GeoPandas GeoDataFrame (a spatial version of the former). The raw crime data comes with lat/long coordinates, which I use these to create Shapely point geometry objects (these are the values in the \"geometry\" field for each record in a GeoDataFrame). I specify the spatial reference system as ESPG 4326 which represents the standard WGS84 coordinate system."
   ]
  },
  {
   "cell_type": "code",
   "execution_count": null,
   "metadata": {
    "collapsed": true
   },
   "outputs": [],
   "source": [
    "#First create a GeoSeries of crime locations by converting coordinates to Shapely geometry objects\n",
    "#Specify the coordinate system ESPG4326 which represents the standard WGS84 coordinate system\n",
    "assault_geo = gpd.GeoSeries(assaults.apply(lambda z: Point(z['X'], z['Y']), 1),crs={'init': 'epsg:4326'})\n",
    "\n",
    "#Create a geodataframe from the pandas dataframe and the geoseries of shapely geometry objects\n",
    "assaults = gpd.GeoDataFrame(assaults.drop(['X', 'Y'], 1), geometry=assault_geo)\n",
    "print assaults.head()"
   ]
  },
  {
   "cell_type": "markdown",
   "metadata": {},
   "source": [
    "### Calculate Census Tract Crime Density\n",
    "Next, I read in a Shapefile of San Francisco Census Tracts, which I also downloaded from the SF Open Data Portal. With GeoPandas, I can read a Shapefile directly into Python really easily. Then in one line of code, I spatially join census tracts to assaults (determine the census tract of each assault), and generate counts of assaults per census tract. Note that I use the ```to_crs``` function to convert assaults to the same coordinate system as Census Tracts (EPSG 3310) prior to spatially joining them.\n",
    "\n",
    "Lastly, I calculate the number of assaults per square mile, which is the metric that I'm interested in plotting."
   ]
  },
  {
   "cell_type": "code",
   "execution_count": null,
   "metadata": {
    "collapsed": true
   },
   "outputs": [],
   "source": [
    "#Read tracts shapefile into GeoDataFrame\n",
    "tracts = gpd.read_file('sf_census_tracts.shp').set_index('CTFIPS10')\n",
    "\n",
    "#Generate Counts of Assaults per Census Tract\n",
    "#Spatially join census tracts to assaults (after projecting) and then group by Tract FIPS while counting the number of crimes\n",
    "tract_counts = gpd.tools.sjoin(assaults.to_crs(tracts.crs), tracts.reset_index()).groupby('CTFIPS10').size()\n",
    "\n",
    "#Calculate Assault Density, converting square meters to square miles.\n",
    "tracts['AssaultsPSqMi'] = (tract_counts/(tracts.geometry.area*3.86102e-7)).fillna(0)\n",
    "tracts = tracts.reset_index()\n",
    "print tracts.head()"
   ]
  },
  {
   "cell_type": "markdown",
   "metadata": {},
   "source": [
    "## Using Folium to Plot Data\n",
    "The general approach I take here is to first create a Folium basemap and then add two layers to it: (1) a choropleth of census tracts, symbolized crime density, and (2) crime point locations. I write a separate function to plot each of these two layers, each of which takes a GeoDataFrame as its input. Folium takes unprojected lat/long coordinates for all of its plotting, so I make sure to convert all of my projected GeoDataFrames to WGS84 within the plotting functions.\n",
    "\n",
    "###  Choropleth Layer of Tract Crime Density\n",
    "As its inputs, my choropleth function takes a Folium map object, a GeoDataFrame, the name of the feature ID field, and the name of the field whose values will be symbolized. \n",
    "\n",
    "Leaflet uses GeoJSON objects to plot vector geometries (GeoJSON is a data format that is used to represent geographical features along with their non-spatial attributes). GeoPandas has a ```to_json``` method which I use to convert the GeoDataFrame to GeoJSON to be used as one of the inputs to Folium's choropleth function. I also specify the id field, which is used to link the geometry in the GeoJSON with the data in the GeoDataFrame.\n",
    "\n",
    "The function also takes optional parameters for fill color, fill opacity, line opacity, number of classifiers, and classification scheme. All of these have default values if not specified. Folium / Leaflet uses the [Color Brewer](http://colorbrewer2.org/#type=sequential&scheme=YlOrRd&n=5) sequential color schemes, which can easily be specified to view different combinations. \n",
    "\n",
    "Lastly, I allow the user to specify the number of classes and the classification scheme. At this point, Folium has limited map classification options, so I instead use Pysal's choropleth [map classfication module](http://pysal.readthedocs.io/en/latest/library/esda/mapclassify.html) to provide some basic classification options. My function defaults to \"Fisher_Jenks\", but also has options for \"Equal_Interval\", and \"Quantiles\". \n",
    "\n",
    "Below, I first create a basemap that is centered in San Francisco, and then I run my function on this basemap specifying the Census Tract ID Field as well as the field I want to symbolize on (Assaults Per Square Mile)."
   ]
  },
  {
   "cell_type": "code",
   "execution_count": null,
   "metadata": {
    "collapsed": true
   },
   "outputs": [],
   "source": [
    "#Create SF basemap specifying map center, zoom level, and using the default OpenStreetMap tiles\n",
    "crime_map = folium.Map([37.7556, -122.4399], zoom_start = 12)\n",
    "\n",
    "def add_choropleth(mapobj, gdf, id_field, value_field, fill_color = 'YlOrRd', fill_opacity = 0.6, \n",
    "                    line_opacity = 0.2, num_classes = 5, classifier = 'Fisher_Jenks'):\n",
    "    #Allow for 3 Pysal map classifiers to display data\n",
    "    #Generate list of breakpoints using specified classification scheme. List of breakpoint will be input to choropleth function\n",
    "    if classifier == 'Fisher_Jenks':\n",
    "        threshold_scale=ps.esda.mapclassify.Fisher_Jenks(gdf[value_field], k = num_classes).bins.tolist()\n",
    "    if classifier == 'Equal_Interval':\n",
    "        threshold_scale=ps.esda.mapclassify.Equal_Interval(gdf[value_field], k = num_classes).bins.tolist()\n",
    "    if classifier == 'Quantiles':\n",
    "        threshold_scale=ps.esda.mapclassify.Quantiles(gdf[value_field], k = num_classes).bins.tolist()\n",
    "    \n",
    "    #Convert the GeoDataFrame to WGS84 coordinate reference system\n",
    "    gdf_wgs84 = gdf.to_crs({'init': 'epsg:4326'})\n",
    "    \n",
    "    #Call Folium choropleth function, specifying the geometry as a the WGS84 dataframe converted to GeoJSON, the data as \n",
    "    #the GeoDataFrame, the columns as the user-specified id field and and value field.\n",
    "    #key_on field refers to the id field within the GeoJSON string\n",
    "    mapobj.choropleth(geo_str = gdf_wgs84.to_json(), data = gdf,\n",
    "                columns = [id_field, value_field], key_on = 'feature.properties.{}'.format(id_field),\n",
    "                fill_color = fill_color, fill_opacity = fill_opacity, line_opacity = line_opacity,  \n",
    "                threshold_scale = threshold_scale)\n",
    "    return mapobj\n",
    "\n",
    "#Update basemap with choropleth\n",
    "crime_map=add_choropleth(crime_map, tracts, 'CTFIPS10','AssaultsPSqMi')"
   ]
  },
  {
   "cell_type": "markdown",
   "metadata": {},
   "source": [
    "### Create Crime Point Cluster Layer\n",
    "Before displaying my map, I will also add the layer of crime point locations. Rather than display each individual point, I use Leaflet's marker clustering feature, which makes it easier to visualize large numbers of points by grouping together those that are close to each other. Additionally, I use popups to display information about a particular crime when the user clicks on a point. Folium lets you create HTML-rich popups called IFrames. I use this feature only in the most basic form, just to display a few lines of information: crime description, date, time, and address. There are obviously much more creative things that can be done with an IFrame popup (tables, graphs, sub-maps, etc.) but for my purposes this is all I need. \n",
    "\n",
    "My function takes as its inputs a Folium map object, a GeoDataFrame, and a list of fields to include in the popup. I run this function on my previously created map object (already updated with a choropleth layer), specifying 4 fields of interest that I want to display. \n"
   ]
  },
  {
   "cell_type": "code",
   "execution_count": null,
   "metadata": {
    "collapsed": true
   },
   "outputs": [],
   "source": [
    "def add_point_clusters(mapobj, gdf, popup_field_list):\n",
    "    #Create empty lists to contain the point coordinates and the point pop-up information\n",
    "    coords, popups = [], [] \n",
    "    #Loop through each record in the GeoDataFrame\n",
    "    for i, row in gdf.iterrows():\n",
    "        #Append lat and long coordinates to \"coords\" list\n",
    "        coords.append([row.geometry.y, row.geometry.x])\n",
    "        #Create a string of HTML code used in the IFrame popup\n",
    "        #Join together the fields in \"popup_field_list\" with a linebreak between them\n",
    "        label = '<br>'.join([row[field] for field in popup_field_list])\n",
    "        #Append an IFrame that uses the HTML string to the \"popups\" list \n",
    "        popups.append(IFrame(label, width = 300, height = 100))\n",
    "        \n",
    "    #Create a Folium feature group for this layer, since we will be displaying multiple layers\n",
    "    pt_lyr = folium.FeatureGroup(name = 'pt_lyr')\n",
    "    \n",
    "    #Add the clustered points of crime locations and popups to this layer\n",
    "    pt_lyr.add_children(MarkerCluster(locations = coords, popups = popups))\n",
    "    \n",
    "    #Add this point layer to the map object\n",
    "    mapobj.add_children(pt_lyr)\n",
    "    return mapobj\n",
    "\n",
    "#Update choropleth with point clusters\n",
    "crime_map = add_point_clusters(crime_map, assaults, ['Descript','Address','DateStr','Time'])"
   ]
  },
  {
   "cell_type": "markdown",
   "metadata": {},
   "source": [
    "### Add Layer Control, Display and Save Map\n",
    "As a finishing touch, I add Layer Control to the map, which allows me to toggle on/off either of my two layers (see widget on the top right). Then I save my finished map as an HTML and display it! \n",
    "\n",
    "I hope this was helpful in demonstrating some of the mapping capabilities of Leaflet accessed through the package Folium.  The functions I wrote provide a nice way of displaying two very common types of spatial data on a basemap and can obviously be tweaked to add more custom functionality."
   ]
  },
  {
   "cell_type": "code",
   "execution_count": null,
   "metadata": {
    "collapsed": true
   },
   "outputs": [],
   "source": [
    "folium.LayerControl().add_to(crime_map) #Add layer control to toggle on/off\n",
    "crime_map.save('sf_assaults.html') #save HTML\n",
    "crime_map #display map"
   ]
  }
 ],
 "metadata": {
  "kernelspec": {
   "display_name": "Python [conda env:py27]",
   "language": "python",
   "name": "conda-env-py27-py"
  },
  "language_info": {
   "codemirror_mode": {
    "name": "ipython",
    "version": 2
   },
   "file_extension": ".py",
   "mimetype": "text/x-python",
   "name": "python",
   "nbconvert_exporter": "python",
   "pygments_lexer": "ipython2",
   "version": "2.7.14"
  }
 },
 "nbformat": 4,
 "nbformat_minor": 1
}
